{
 "cells": [
  {
   "cell_type": "code",
   "execution_count": 11,
   "metadata": {
    "collapsed": true
   },
   "outputs": [],
   "source": [
    "import os\n",
    "import pandas as pd\n",
    "import numpy as np\n",
    "from tqdm import tqdm\n",
    "import torch"
   ]
  },
  {
   "cell_type": "code",
   "execution_count": 3,
   "outputs": [
    {
     "data": {
      "text/plain": "       date   open   high    low  close    volume    per   pbr    roe  \\\n0  20150102  26800  26800  26540  26600   8774950  10.23  1.46  15.03   \n1  20150105  26720  26720  26260  26660  10139500  10.23  1.46  15.03   \n2  20150106  26300  26340  25760  25900  15235500  10.23  1.46  15.03   \n3  20150107  25880  26220  25640  26140  14322750  10.23  1.46  15.03   \n4  20150108  26780  26780  26200  26280  14477600  10.23  1.46  15.03   \n\n   open_lastclose_ratio  ...  inst_ma20  inst_ma60  inst_ma120   foreign  \\\n0              0.009797  ...   0.068656  -0.004882         NaN  0.121528   \n1              0.004511  ...   0.073177  -0.005112         NaN -0.263716   \n2             -0.013503  ...   0.073461  -0.001545         NaN -0.335493   \n3             -0.000772  ...   0.074698   0.000497         NaN -0.209890   \n4              0.024484  ...   0.065718  -0.000866         NaN -0.014612   \n\n   foreign_diff  foreign_ma5  foreign_ma10  foreign_ma20  foreign_ma60  \\\n0      0.224677     0.042419     -0.086925     -0.103082      0.013609   \n1     -0.385244    -0.045647     -0.066122     -0.120913      0.009165   \n2     -0.071777    -0.148171     -0.070559     -0.140096      0.002915   \n3      0.125603    -0.158144     -0.093941     -0.152589     -0.000285   \n4      0.195278    -0.140437     -0.084057     -0.164525     -0.000239   \n\n   foreign_ma120  \n0            NaN  \n1            NaN  \n2            NaN  \n3            NaN  \n4            NaN  \n\n[5 rows x 45 columns]",
      "text/html": "<div>\n<style scoped>\n    .dataframe tbody tr th:only-of-type {\n        vertical-align: middle;\n    }\n\n    .dataframe tbody tr th {\n        vertical-align: top;\n    }\n\n    .dataframe thead th {\n        text-align: right;\n    }\n</style>\n<table border=\"1\" class=\"dataframe\">\n  <thead>\n    <tr style=\"text-align: right;\">\n      <th></th>\n      <th>date</th>\n      <th>open</th>\n      <th>high</th>\n      <th>low</th>\n      <th>close</th>\n      <th>volume</th>\n      <th>per</th>\n      <th>pbr</th>\n      <th>roe</th>\n      <th>open_lastclose_ratio</th>\n      <th>...</th>\n      <th>inst_ma20</th>\n      <th>inst_ma60</th>\n      <th>inst_ma120</th>\n      <th>foreign</th>\n      <th>foreign_diff</th>\n      <th>foreign_ma5</th>\n      <th>foreign_ma10</th>\n      <th>foreign_ma20</th>\n      <th>foreign_ma60</th>\n      <th>foreign_ma120</th>\n    </tr>\n  </thead>\n  <tbody>\n    <tr>\n      <th>0</th>\n      <td>20150102</td>\n      <td>26800</td>\n      <td>26800</td>\n      <td>26540</td>\n      <td>26600</td>\n      <td>8774950</td>\n      <td>10.23</td>\n      <td>1.46</td>\n      <td>15.03</td>\n      <td>0.009797</td>\n      <td>...</td>\n      <td>0.068656</td>\n      <td>-0.004882</td>\n      <td>NaN</td>\n      <td>0.121528</td>\n      <td>0.224677</td>\n      <td>0.042419</td>\n      <td>-0.086925</td>\n      <td>-0.103082</td>\n      <td>0.013609</td>\n      <td>NaN</td>\n    </tr>\n    <tr>\n      <th>1</th>\n      <td>20150105</td>\n      <td>26720</td>\n      <td>26720</td>\n      <td>26260</td>\n      <td>26660</td>\n      <td>10139500</td>\n      <td>10.23</td>\n      <td>1.46</td>\n      <td>15.03</td>\n      <td>0.004511</td>\n      <td>...</td>\n      <td>0.073177</td>\n      <td>-0.005112</td>\n      <td>NaN</td>\n      <td>-0.263716</td>\n      <td>-0.385244</td>\n      <td>-0.045647</td>\n      <td>-0.066122</td>\n      <td>-0.120913</td>\n      <td>0.009165</td>\n      <td>NaN</td>\n    </tr>\n    <tr>\n      <th>2</th>\n      <td>20150106</td>\n      <td>26300</td>\n      <td>26340</td>\n      <td>25760</td>\n      <td>25900</td>\n      <td>15235500</td>\n      <td>10.23</td>\n      <td>1.46</td>\n      <td>15.03</td>\n      <td>-0.013503</td>\n      <td>...</td>\n      <td>0.073461</td>\n      <td>-0.001545</td>\n      <td>NaN</td>\n      <td>-0.335493</td>\n      <td>-0.071777</td>\n      <td>-0.148171</td>\n      <td>-0.070559</td>\n      <td>-0.140096</td>\n      <td>0.002915</td>\n      <td>NaN</td>\n    </tr>\n    <tr>\n      <th>3</th>\n      <td>20150107</td>\n      <td>25880</td>\n      <td>26220</td>\n      <td>25640</td>\n      <td>26140</td>\n      <td>14322750</td>\n      <td>10.23</td>\n      <td>1.46</td>\n      <td>15.03</td>\n      <td>-0.000772</td>\n      <td>...</td>\n      <td>0.074698</td>\n      <td>0.000497</td>\n      <td>NaN</td>\n      <td>-0.209890</td>\n      <td>0.125603</td>\n      <td>-0.158144</td>\n      <td>-0.093941</td>\n      <td>-0.152589</td>\n      <td>-0.000285</td>\n      <td>NaN</td>\n    </tr>\n    <tr>\n      <th>4</th>\n      <td>20150108</td>\n      <td>26780</td>\n      <td>26780</td>\n      <td>26200</td>\n      <td>26280</td>\n      <td>14477600</td>\n      <td>10.23</td>\n      <td>1.46</td>\n      <td>15.03</td>\n      <td>0.024484</td>\n      <td>...</td>\n      <td>0.065718</td>\n      <td>-0.000866</td>\n      <td>NaN</td>\n      <td>-0.014612</td>\n      <td>0.195278</td>\n      <td>-0.140437</td>\n      <td>-0.084057</td>\n      <td>-0.164525</td>\n      <td>-0.000239</td>\n      <td>NaN</td>\n    </tr>\n  </tbody>\n</table>\n<p>5 rows × 45 columns</p>\n</div>"
     },
     "execution_count": 3,
     "metadata": {},
     "output_type": "execute_result"
    }
   ],
   "source": [
    "df = pd.read_csv('../data/v3/005930_삼성전자.csv', converters={'date':lambda x:str(x)})\n",
    "df.head()"
   ],
   "metadata": {
    "collapsed": false
   }
  },
  {
   "cell_type": "code",
   "execution_count": 7,
   "outputs": [],
   "source": [
    "chart_data = df.loc[:, ['date','open','high','low','close','volume']]\n",
    "training_data = df.iloc[:, 6:]"
   ],
   "metadata": {
    "collapsed": false
   }
  },
  {
   "cell_type": "code",
   "execution_count": 8,
   "outputs": [
    {
     "data": {
      "text/plain": "       date   open   high    low  close    volume\n0  20150102  26800  26800  26540  26600   8774950\n1  20150105  26720  26720  26260  26660  10139500\n2  20150106  26300  26340  25760  25900  15235500\n3  20150107  25880  26220  25640  26140  14322750\n4  20150108  26780  26780  26200  26280  14477600",
      "text/html": "<div>\n<style scoped>\n    .dataframe tbody tr th:only-of-type {\n        vertical-align: middle;\n    }\n\n    .dataframe tbody tr th {\n        vertical-align: top;\n    }\n\n    .dataframe thead th {\n        text-align: right;\n    }\n</style>\n<table border=\"1\" class=\"dataframe\">\n  <thead>\n    <tr style=\"text-align: right;\">\n      <th></th>\n      <th>date</th>\n      <th>open</th>\n      <th>high</th>\n      <th>low</th>\n      <th>close</th>\n      <th>volume</th>\n    </tr>\n  </thead>\n  <tbody>\n    <tr>\n      <th>0</th>\n      <td>20150102</td>\n      <td>26800</td>\n      <td>26800</td>\n      <td>26540</td>\n      <td>26600</td>\n      <td>8774950</td>\n    </tr>\n    <tr>\n      <th>1</th>\n      <td>20150105</td>\n      <td>26720</td>\n      <td>26720</td>\n      <td>26260</td>\n      <td>26660</td>\n      <td>10139500</td>\n    </tr>\n    <tr>\n      <th>2</th>\n      <td>20150106</td>\n      <td>26300</td>\n      <td>26340</td>\n      <td>25760</td>\n      <td>25900</td>\n      <td>15235500</td>\n    </tr>\n    <tr>\n      <th>3</th>\n      <td>20150107</td>\n      <td>25880</td>\n      <td>26220</td>\n      <td>25640</td>\n      <td>26140</td>\n      <td>14322750</td>\n    </tr>\n    <tr>\n      <th>4</th>\n      <td>20150108</td>\n      <td>26780</td>\n      <td>26780</td>\n      <td>26200</td>\n      <td>26280</td>\n      <td>14477600</td>\n    </tr>\n  </tbody>\n</table>\n</div>"
     },
     "execution_count": 8,
     "metadata": {},
     "output_type": "execute_result"
    }
   ],
   "source": [
    "chart_data.head()"
   ],
   "metadata": {
    "collapsed": false
   }
  },
  {
   "cell_type": "code",
   "execution_count": 9,
   "outputs": [
    {
     "data": {
      "text/plain": "     per   pbr    roe  open_lastclose_ratio  high_close_ratio  \\\n0  10.23  1.46  15.03              0.009797          0.007519   \n1  10.23  1.46  15.03              0.004511          0.002251   \n2  10.23  1.46  15.03             -0.013503          0.016988   \n3  10.23  1.46  15.03             -0.000772          0.003060   \n4  10.23  1.46  15.03              0.024484          0.019026   \n\n   low_close_ratio  diffratio  volume_lastvolume_ratio  close_ma5_ratio  \\\n0        -0.002256   0.002261                -0.175991        -0.004640   \n1        -0.015004   0.002256                 0.155505        -0.000899   \n2        -0.005405  -0.028507                 0.502589        -0.021016   \n3        -0.019128   0.009266                -0.059909        -0.008647   \n4        -0.003044   0.005356                 0.010811        -0.001368   \n\n   volume_ma5_ratio  ...  inst_ma20  inst_ma60  inst_ma120   foreign  \\\n0         -0.062638  ...   0.068656  -0.004882         NaN  0.121528   \n1          0.000166  ...   0.073177  -0.005112         NaN -0.263716   \n2          0.399383  ...   0.073461  -0.001545         NaN -0.335493   \n3          0.211292  ...   0.074698   0.000497         NaN -0.209890   \n4          0.149923  ...   0.065718  -0.000866         NaN -0.014612   \n\n   foreign_diff  foreign_ma5  foreign_ma10  foreign_ma20  foreign_ma60  \\\n0      0.224677     0.042419     -0.086925     -0.103082      0.013609   \n1     -0.385244    -0.045647     -0.066122     -0.120913      0.009165   \n2     -0.071777    -0.148171     -0.070559     -0.140096      0.002915   \n3      0.125603    -0.158144     -0.093941     -0.152589     -0.000285   \n4      0.195278    -0.140437     -0.084057     -0.164525     -0.000239   \n\n   foreign_ma120  \n0            NaN  \n1            NaN  \n2            NaN  \n3            NaN  \n4            NaN  \n\n[5 rows x 39 columns]",
      "text/html": "<div>\n<style scoped>\n    .dataframe tbody tr th:only-of-type {\n        vertical-align: middle;\n    }\n\n    .dataframe tbody tr th {\n        vertical-align: top;\n    }\n\n    .dataframe thead th {\n        text-align: right;\n    }\n</style>\n<table border=\"1\" class=\"dataframe\">\n  <thead>\n    <tr style=\"text-align: right;\">\n      <th></th>\n      <th>per</th>\n      <th>pbr</th>\n      <th>roe</th>\n      <th>open_lastclose_ratio</th>\n      <th>high_close_ratio</th>\n      <th>low_close_ratio</th>\n      <th>diffratio</th>\n      <th>volume_lastvolume_ratio</th>\n      <th>close_ma5_ratio</th>\n      <th>volume_ma5_ratio</th>\n      <th>...</th>\n      <th>inst_ma20</th>\n      <th>inst_ma60</th>\n      <th>inst_ma120</th>\n      <th>foreign</th>\n      <th>foreign_diff</th>\n      <th>foreign_ma5</th>\n      <th>foreign_ma10</th>\n      <th>foreign_ma20</th>\n      <th>foreign_ma60</th>\n      <th>foreign_ma120</th>\n    </tr>\n  </thead>\n  <tbody>\n    <tr>\n      <th>0</th>\n      <td>10.23</td>\n      <td>1.46</td>\n      <td>15.03</td>\n      <td>0.009797</td>\n      <td>0.007519</td>\n      <td>-0.002256</td>\n      <td>0.002261</td>\n      <td>-0.175991</td>\n      <td>-0.004640</td>\n      <td>-0.062638</td>\n      <td>...</td>\n      <td>0.068656</td>\n      <td>-0.004882</td>\n      <td>NaN</td>\n      <td>0.121528</td>\n      <td>0.224677</td>\n      <td>0.042419</td>\n      <td>-0.086925</td>\n      <td>-0.103082</td>\n      <td>0.013609</td>\n      <td>NaN</td>\n    </tr>\n    <tr>\n      <th>1</th>\n      <td>10.23</td>\n      <td>1.46</td>\n      <td>15.03</td>\n      <td>0.004511</td>\n      <td>0.002251</td>\n      <td>-0.015004</td>\n      <td>0.002256</td>\n      <td>0.155505</td>\n      <td>-0.000899</td>\n      <td>0.000166</td>\n      <td>...</td>\n      <td>0.073177</td>\n      <td>-0.005112</td>\n      <td>NaN</td>\n      <td>-0.263716</td>\n      <td>-0.385244</td>\n      <td>-0.045647</td>\n      <td>-0.066122</td>\n      <td>-0.120913</td>\n      <td>0.009165</td>\n      <td>NaN</td>\n    </tr>\n    <tr>\n      <th>2</th>\n      <td>10.23</td>\n      <td>1.46</td>\n      <td>15.03</td>\n      <td>-0.013503</td>\n      <td>0.016988</td>\n      <td>-0.005405</td>\n      <td>-0.028507</td>\n      <td>0.502589</td>\n      <td>-0.021016</td>\n      <td>0.399383</td>\n      <td>...</td>\n      <td>0.073461</td>\n      <td>-0.001545</td>\n      <td>NaN</td>\n      <td>-0.335493</td>\n      <td>-0.071777</td>\n      <td>-0.148171</td>\n      <td>-0.070559</td>\n      <td>-0.140096</td>\n      <td>0.002915</td>\n      <td>NaN</td>\n    </tr>\n    <tr>\n      <th>3</th>\n      <td>10.23</td>\n      <td>1.46</td>\n      <td>15.03</td>\n      <td>-0.000772</td>\n      <td>0.003060</td>\n      <td>-0.019128</td>\n      <td>0.009266</td>\n      <td>-0.059909</td>\n      <td>-0.008647</td>\n      <td>0.211292</td>\n      <td>...</td>\n      <td>0.074698</td>\n      <td>0.000497</td>\n      <td>NaN</td>\n      <td>-0.209890</td>\n      <td>0.125603</td>\n      <td>-0.158144</td>\n      <td>-0.093941</td>\n      <td>-0.152589</td>\n      <td>-0.000285</td>\n      <td>NaN</td>\n    </tr>\n    <tr>\n      <th>4</th>\n      <td>10.23</td>\n      <td>1.46</td>\n      <td>15.03</td>\n      <td>0.024484</td>\n      <td>0.019026</td>\n      <td>-0.003044</td>\n      <td>0.005356</td>\n      <td>0.010811</td>\n      <td>-0.001368</td>\n      <td>0.149923</td>\n      <td>...</td>\n      <td>0.065718</td>\n      <td>-0.000866</td>\n      <td>NaN</td>\n      <td>-0.014612</td>\n      <td>0.195278</td>\n      <td>-0.140437</td>\n      <td>-0.084057</td>\n      <td>-0.164525</td>\n      <td>-0.000239</td>\n      <td>NaN</td>\n    </tr>\n  </tbody>\n</table>\n<p>5 rows × 39 columns</p>\n</div>"
     },
     "execution_count": 9,
     "metadata": {},
     "output_type": "execute_result"
    }
   ],
   "source": [
    "training_data.head()"
   ],
   "metadata": {
    "collapsed": false
   }
  },
  {
   "cell_type": "code",
   "execution_count": 10,
   "outputs": [],
   "source": [
    "min_trading_price = 100_000\n",
    "max_trading_price = 10_000_000\n",
    "rl_method = 'dqn'\n",
    "net = 'dnn'\n",
    "lr = 0.01\n",
    "discount = 0.09\n",
    "train_start_date = 20200101\n",
    "train_end_date = 20200931"
   ],
   "metadata": {
    "collapsed": false
   }
  },
  {
   "cell_type": "markdown",
   "source": [
    "## 환경 설정"
   ],
   "metadata": {
    "collapsed": false
   }
  },
  {
   "cell_type": "code",
   "execution_count": 12,
   "outputs": [],
   "source": [
    "class Environment:\n",
    "    PRICE_IDX = 4  # 종가의 위치\n",
    "\n",
    "    def __init__(self, chart_data=None):\n",
    "        \"\"\"chart_data: pandas DataFrame(날짜, 시가, 고가, 저가, 종가, 거래량)\"\"\"\n",
    "        self.chart_data = chart_data    # 종목 데이터\n",
    "        self.observation = None         # 현재 관측치 -> (날짜, 시가, 고가, 저가, 종가, 거래량)\n",
    "        self.idx = -1                   # 데이터에서의 현재 위치\n",
    "\n",
    "    def reset(self):\n",
    "        \"\"\"idx, observation 초기화 -> 데이터의 처음으로 돌아감\"\"\"\n",
    "        self.observation = None\n",
    "        self.idx = -1\n",
    "\n",
    "    def observe(self):\n",
    "        \"\"\"\n",
    "        idx를 다음 위치(다음 날)로 이동시키고 observation 업데이트\n",
    "        더 이상 제공할 데이터가 없을 때는 None 반환\n",
    "        :return: observation or None\n",
    "        \"\"\"\n",
    "        # 인덱스의 다음 위치보다 데이터의 전체길이가 크다면 가져올 데이터가 있다는 의미\n",
    "        if len(self.chart_data) > self.idx + 1:\n",
    "            self.idx += 1\n",
    "            self.observation = self.chart_data.iloc[self.idx]\n",
    "            return self.observation\n",
    "        return None\n",
    "\n",
    "    def get_price(self):\n",
    "        \"\"\"\n",
    "        현재 observation의 종가 반환. 종가의 위치는 5번째 = 인덱스 4\n",
    "        :return: 종가 or None\n",
    "        \"\"\"\n",
    "        if self.observation is not None:\n",
    "            return self.observation[self.PRICE_IDX]\n",
    "        return None"
   ],
   "metadata": {
    "collapsed": false
   }
  },
  {
   "cell_type": "code",
   "execution_count": 13,
   "outputs": [],
   "source": [
    "class Agent:\n",
    "    # 에이전트 상태가 구성하는 값 개수 -> 주식_보유_비율, 현재_손익, 평균_매수_단가_대비_등락률\n",
    "    STATE_DIM = 3\n",
    "\n",
    "    # 매매 수수료 및 세금\n",
    "    TRADING_CHARGE = 0.00015  # 거래 수수료 0.015%\n",
    "    TRADING_TAX = 0.0025  # 거래세 0.25%\n",
    "\n",
    "    # 행동\n",
    "    ACTION_BUY = 0  # 매수\n",
    "    ACTION_SELL = 1  # 매도\n",
    "    ACTION_HOLD = 2  # 관망\n",
    "    # 정책 신경망이 확률을 구할 행동들을 저장하는 리스트 변수\n",
    "    ACTIONS = [ACTION_BUY, ACTION_SELL, ACTION_HOLD]\n",
    "    NUM_ACTIONS = len(ACTIONS)  # 인공 신경망에서 고려할 출력값의 개수\n",
    "\n",
    "    def __init__(self, environment, initial_balance, min_trading_price, max_trading_price):\n",
    "        # 현재 주식 가격을 가져오기 위해 환경 참조\n",
    "        self.environment = environment\n",
    "        self.initial_balance = initial_balance  # 초기 자본금\n",
    "\n",
    "        # 최소 단일 매매 금액, 최대 단일 매매 금액\n",
    "        self.min_trading_price = min_trading_price\n",
    "        self.max_trading_price = max_trading_price\n",
    "\n",
    "        # Agent 클래스의 속성\n",
    "        self.balance = initial_balance  # 현재 현금 잔고\n",
    "        self.num_stocks = 0  # 보유 주식 수\n",
    "        # 포트폴리오 가치: 현금_잔고 + 보유_주식_수 * 현재_주식_가격\n",
    "        self.portfolio_value = 0\n",
    "        self.num_buy = 0  # 매수 횟수\n",
    "        self.num_sell = 0  # 매도 횟수\n",
    "        self.num_hold = 0  # 관망 횟수\n",
    "\n",
    "        # Agent 클래스의 상태 -> 신경망에 입력으로 들어가는 샘플에 포함됨\n",
    "        self.ratio_hold = 0  # 주식 보유 비율\n",
    "        self.profitloss = 0  # 현재 손익\n",
    "        self.avg_buy_price = 0  # 주당 매수 단가\n",
    "\n",
    "    def reset(self):\n",
    "        \"\"\"에이전트 상태 초기화\"\"\"\n",
    "\n",
    "        self.balance = self.initial_balance\n",
    "        self.num_stocks = 0\n",
    "        self.portfolio_value = self.initial_balance\n",
    "        self.num_buy = 0\n",
    "        self.num_sell = 0\n",
    "        self.num_hold = 0\n",
    "        self.ratio_hold = 0\n",
    "        self.profitloss = 0\n",
    "        self.avg_buy_price = 0\n",
    "\n",
    "    def set_balance(self, balance):\n",
    "        \"\"\"초기 자본금 설정\"\"\"\n",
    "        self.initial_balance = balance\n",
    "\n",
    "    def get_states(self):\n",
    "        \"\"\"\n",
    "        에이전트 상태 가져오기\n",
    "\n",
    "        * ratio_hold: 주식_보유_비율 = 보유주식수 * 현재_주가 / 포트폴리오_가치\n",
    "        *  -> 주식 보유 비율이 높으면 매도의 관점에서, 낮으면 매수 관점에서 투자에 임하게 됨\n",
    "        * profitloss: 손익률 = 포트폴리오_가치 / 초기_자본금 - 1\n",
    "        * 평균_매수_단가_대비_등락률: 주가 / 평균_매수_단가 - 1\n",
    "        :return: 주식_보유_비율, 현재_손익, 평균_매수_단가_대비_등락률\n",
    "        \"\"\"\n",
    "\n",
    "        self.ratio_hold = (self.num_stocks\n",
    "                           * self.environment.get_price()\n",
    "                           / self.portfolio_value)\n",
    "        return (\n",
    "            self.ratio_hold,\n",
    "            self.profitloss,\n",
    "            ((self.environment.get_price() / self.avg_buy_price) - 1\n",
    "                if self.avg_buy_price > 0 else 0)\n",
    "        )\n",
    "\n",
    "    def decide_action(self, pred_value, pred_policy, epsilon):\n",
    "        \"\"\"\n",
    "        탐험 또는 정책 신경망에 의한 행동 결정\n",
    "        :param pred_value:\n",
    "        :param pred_policy: 정책 신경망의 출력\n",
    "        :param epsilon: (0, 1] 랜덤 값이 엡실론보다 작으면 무작위로 행동 결정\n",
    "        :return: action, confidence, exploration\n",
    "        \"\"\"\n",
    "\n",
    "        confidence = 0.     # best policy value\n",
    "\n",
    "        pred = pred_policy\n",
    "        # DQN은 pred_policy가 None -> pred_value로 행동 결정\n",
    "        if pred is None:\n",
    "            pred = pred_value\n",
    "\n",
    "        if pred is None:\n",
    "            # 예측 값이 없을 경우 탐험\n",
    "            epsilon = 1\n",
    "        else:\n",
    "            # 값이 모두 같은 경우 탐험\n",
    "            maxpred = np.max(pred)\n",
    "            if (pred == maxpred).all():  # TODO: 특이한 코드다. np.all(pred == maxpred)와 같을까?\n",
    "                epsilon = 1\n",
    "\n",
    "            # if pred_policy is not None:\n",
    "            #     if np.max(pred_policy) - np.min(pred_policy) < 0.05:\n",
    "            #         epsilon = 1\n",
    "\n",
    "        # 탐험 결정\n",
    "        if np.random.rand() < epsilon:  # 무작위 숫자가 엡실론보다 작으면 -> 무작위 행동\n",
    "            exploration = True\n",
    "            # 행동 랜덤 선택. 0 ~ (행동개수-1)\n",
    "            action = np.random.randint(self.NUM_ACTIONS)\n",
    "        else:\n",
    "            exploration = False\n",
    "            action = np.argmax(pred)\n",
    "\n",
    "        confidence = .5\n",
    "        if pred_policy is not None:\n",
    "            confidence = pred[action]   # 정책 신경망 -> 소프트맥스 확률값\n",
    "        elif pred_value is not None:\n",
    "            # sigmoid\n",
    "            pred[action] = max(min(pred[action], 10), -10)\n",
    "            confidence = 1. / (1. + np.exp(-pred[action]))\n",
    "\n",
    "        return action, confidence, exploration\n",
    "\n",
    "    def validate_action(self, action):\n",
    "        \"\"\"\n",
    "        * 행동의 유효성 판단. 신용 매수나 공매도 고려하지 않음.\n",
    "        * 수수료를 포함해 적어도 한 주를 살 수 있는 잔고가 있어야 매수 가능\n",
    "        * 보유한 주식이 있어야 매도 가능\n",
    "        :param action: 매수, 매도\n",
    "        :return: 매수[도]가 가능하면 True, 불가능하면 Flase 반환\n",
    "        \"\"\"\n",
    "\n",
    "        if action == Agent.ACTION_BUY:\n",
    "            # 적어도 1주를 살 수 있는지 확인\n",
    "            if self.balance < self.environment.get_price() * (1 + self.TRADING_CHARGE):\n",
    "                return False\n",
    "        elif action == Agent.ACTION_SELL:\n",
    "            # 주식 잔고가 있는지 확인\n",
    "            if self.num_stocks <= 0:\n",
    "                return False\n",
    "        return True\n",
    "\n",
    "    def decide_trading_unit(self, confidence):\n",
    "        \"\"\"\n",
    "        결정한 행동의 신뢰(confidence)에 따라 매수 또는 매도할 주식 수 결정\n",
    "        :param confidence: 매매 강도(confidenct를 곱한 액수 만큼 추가 매수) pred[action] or [0 ~ 1]\n",
    "        :return: min_trading_price(최소 단일 매매 금액) or 매매 주식 수(거래금액 / 매매가)\n",
    "        \"\"\"\n",
    "\n",
    "        # confidence가 없으면 최소 단일 매매 금액 반환\n",
    "        # TODO: confidence가 NaN인 경우가 있을 수 있을까? act()에서 에러 발생할텐데\n",
    "        if np.isnan(confidence):\n",
    "            return self.min_trading_price\n",
    "        # 추가 매매 금액 계산 -> (0 ~ (최대매매금액-최소매매금액))\n",
    "        added_trading_price = \\\n",
    "            max(    # confidence < 0 일 경우 최소매매금액보다 작지 않도록\n",
    "                min(    # confidence > 1 일 경우 최대매매금액을 넘어서지 못하도록\n",
    "                    int(confidence * (self.max_trading_price - self.min_trading_price)),\n",
    "                    self.max_trading_price - self.min_trading_price)\n",
    "                , 0\n",
    "            )\n",
    "        # 매매 금액 = 최소 매매 금액 + 추가 매매 금액\n",
    "        trading_price = self.min_trading_price + added_trading_price\n",
    "        # 매매 수량 = 매매 금액 / 매매가. max( ... , 1) -> 최소 1주 거래\n",
    "        return max(int(trading_price / self.environment.get_price()), 1)\n",
    "\n",
    "    def act(self, action, confidence):\n",
    "        \"\"\"\n",
    "        * 매수(0) or 매도(1) or 관망(2) 수행\n",
    "        * 포트폴리오 가치 갱신\n",
    "        :param action: 매수(0) or 매도(1)\n",
    "        :param confidence: 정책 신경망 -> 소프트맥스 확률값\n",
    "        :return: 현재 손익(portfolio_value / initial_balance - 1)\n",
    "        \"\"\"\n",
    "        # 매수, 매도가 유효하지 않으면 관망\n",
    "        if not self.validate_action(action):\n",
    "            action = Agent.ACTION_HOLD\n",
    "\n",
    "        # 환경에서 현재 가격 얻기\n",
    "        curr_price = self.environment.get_price()\n",
    "\n",
    "        # 매수\n",
    "        if action == Agent.ACTION_BUY:\n",
    "            # 매수할 단위를 판단\n",
    "            trading_unit = self.decide_trading_unit(confidence)\n",
    "            balance = (\n",
    "                self.balance - curr_price *\n",
    "                (1 + self.TRADING_CHARGE) * trading_unit\n",
    "            )\n",
    "            # 보유 현금이 모자랄 경우 보유 현금으로 매수 가능한 최대 주식 수 계산\n",
    "            if balance < 0:\n",
    "                trading_unit = min(\n",
    "                    int(self.balance / (curr_price * (1 + self.TRADING_CHARGE))),\n",
    "                    int(self.max_trading_price / curr_price)\n",
    "                )\n",
    "            # 수수료를 적용하여 총 매수 금액 산정\n",
    "            invest_amount = curr_price * (1 + self.TRADING_CHARGE) * trading_unit\n",
    "            if invest_amount > 0:\n",
    "                # 평균 매수 단가 갱신 = (기존평균매수단가 * 보유주식수 + 현재가 * 매수수량) / (보유주식수 + 매수수량)\n",
    "                self.avg_buy_price = (\n",
    "                    (self.avg_buy_price * self.num_stocks + curr_price * trading_unit)\n",
    "                    / (self.num_stocks + trading_unit)\n",
    "                )\n",
    "                self.balance -= invest_amount  # 보유 현금 갱신 = 잔고 - 매수금액\n",
    "                self.num_stocks += trading_unit  # 보유 주식 수 갱신\n",
    "                self.num_buy += 1  # 매수 횟수 증가\n",
    "\n",
    "        # 매도\n",
    "        elif action == Agent.ACTION_SELL:\n",
    "            # 매도할 단위를 판단\n",
    "            trading_unit = self.decide_trading_unit(confidence)\n",
    "            # 보유 주식이 모자랄 경우 보유 수량 전량 매도\n",
    "            trading_unit = min(trading_unit, self.num_stocks)\n",
    "            # 매도\n",
    "            invest_amount = curr_price * (\n",
    "                1 - (self.TRADING_TAX + self.TRADING_CHARGE)) * trading_unit\n",
    "            if invest_amount > 0:\n",
    "                # 평균 매수 단가 갱신\n",
    "                self.avg_buy_price = (\n",
    "                    (self.avg_buy_price * self.num_stocks - curr_price * trading_unit)\n",
    "                    / (self.num_stocks - trading_unit)\n",
    "                    if self.num_stocks > trading_unit else 0    # 남은 수량 없으면 0\n",
    "                )\n",
    "                self.num_stocks -= trading_unit  # 보유 주식 수를 갱신\n",
    "                self.balance += invest_amount  # 보유 현금을 갱신\n",
    "                self.num_sell += 1  # 매도 횟수 증가\n",
    "\n",
    "        # 관망\n",
    "        elif action == Agent.ACTION_HOLD:\n",
    "            self.num_hold += 1  # 관망 횟수 증가\n",
    "\n",
    "        # 포트폴리오 가치 갱신\n",
    "        self.portfolio_value = self.balance + curr_price * self.num_stocks\n",
    "        self.profitloss = self.portfolio_value / self.initial_balance - 1\n",
    "        return self.profitloss"
   ],
   "metadata": {
    "collapsed": false
   }
  },
  {
   "cell_type": "code",
   "execution_count": null,
   "outputs": [],
   "source": [],
   "metadata": {
    "collapsed": false
   }
  }
 ],
 "metadata": {
  "kernelspec": {
   "display_name": "Python 3",
   "language": "python",
   "name": "python3"
  },
  "language_info": {
   "codemirror_mode": {
    "name": "ipython",
    "version": 2
   },
   "file_extension": ".py",
   "mimetype": "text/x-python",
   "name": "python",
   "nbconvert_exporter": "python",
   "pygments_lexer": "ipython2",
   "version": "2.7.6"
  }
 },
 "nbformat": 4,
 "nbformat_minor": 0
}
